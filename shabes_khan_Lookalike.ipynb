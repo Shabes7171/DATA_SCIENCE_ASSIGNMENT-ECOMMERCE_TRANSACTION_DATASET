{
  "nbformat": 4,
  "nbformat_minor": 0,
  "metadata": {
    "colab": {
      "provenance": []
    },
    "kernelspec": {
      "name": "python3",
      "display_name": "Python 3"
    },
    "language_info": {
      "name": "python"
    }
  },
  "cells": [
    {
      "cell_type": "code",
      "source": [
        "# Importing required libraries\n",
        "import pandas as pd\n",
        "from sklearn.preprocessing import MinMaxScaler\n",
        "from sklearn.metrics.pairwise import cosine_similarity\n",
        "# Loading the datasets\n",
        "customers_df = pd.read_csv('Customers.csv')\n",
        "products_df = pd.read_csv('Products.csv')\n",
        "transactions_df = pd.read_csv('Transactions.csv')\n",
        "\n",
        "# Merging transactions and products data\n",
        "transactions_products = pd.merge(transactions_df, products_df, on='ProductID')\n",
        "# Creating customer-level features\n",
        "customer_features = transactions_products.groupby('CustomerID').agg(\n",
        "    total_spend=('TotalValue', 'sum'),\n",
        "    avg_transaction_value=('TotalValue', 'mean'),\n",
        "    total_transactions=('TransactionID', 'count')\n",
        ").reset_index()\n",
        "\n",
        "# Adding preferred category (highest spend per customer)\n",
        "preferred_category = transactions_products.groupby(['CustomerID', 'Category'])['TotalValue'].sum().reset_index()\n",
        "preferred_category = preferred_category.loc[preferred_category.groupby('CustomerID')['TotalValue'].idxmax()]\n",
        "customer_features = customer_features.merge(preferred_category[['CustomerID', 'Category']], on='CustomerID')\n",
        "\n",
        "# One-hot encoding preferred category\n",
        "customer_features_encoded = pd.get_dummies(customer_features, columns=['Category'])\n",
        "# Normalizing features for similarity calculation\n",
        "scaler = MinMaxScaler()\n",
        "customer_features_encoded.iloc[:, 1:] = scaler.fit_transform(customer_features_encoded.iloc[:, 1:])\n",
        "\n",
        "# Calculating cosine similarity\n",
        "customer_similarity = cosine_similarity(customer_features_encoded.iloc[:, 1:])\n",
        "# Finding top 3 lookalike customers for the first 20 customers\n",
        "lookalike_results = {}\n",
        "for idx in range(20):  # First 20 customers (C0001 to C0020)\n",
        "    customer_id = customer_features_encoded.iloc[idx, 0]\n",
        "    similarity_scores = list(enumerate(customer_similarity[idx]))\n",
        "    top_3_similar = sorted(similarity_scores, key=lambda x: x[1], reverse=True)[1:4]\n",
        "    lookalike_results[customer_id] = [(customer_features_encoded.iloc[i[0], 0], i[1]) for i in top_3_similar]\n",
        "\n",
        "# Displaying lookalike results\n",
        "for customer, lookalikes in lookalike_results.items():\n",
        "    print(f'Customer {customer}: {lookalikes}')\n",
        "    # Exporting the lookalike results to a CSV file\n",
        "lookalike_df = pd.DataFrame([\n",
        "    {'CustomerID': customer, 'Lookalikes': str(lookalikes)}\n",
        "    for customer, lookalikes in lookalike_results.items()\n",
        "])\n",
        "lookalike_df.to_csv('Lookalike.csv', index=False)\n",
        "print('Lookalike results saved to Lookalike.csv')"
      ],
      "metadata": {
        "colab": {
          "base_uri": "https://localhost:8080/"
        },
        "id": "_xDjX-hKyv0q",
        "outputId": "7dd737c3-57ba-4915-f7f2-3bd2ca39e5ef"
      },
      "execution_count": 2,
      "outputs": [
        {
          "output_type": "stream",
          "name": "stdout",
          "text": [
            "Customer C0001: [('C0072', 0.9987768952588382), ('C0190', 0.9986570128515178), ('C0183', 0.997888611572081)]\n",
            "Customer C0002: [('C0029', 0.9998906529958622), ('C0010', 0.9996066053826445), ('C0142', 0.9975354915923277)]\n",
            "Customer C0003: [('C0125', 0.9991683543016404), ('C0001', 0.9958032792344125), ('C0005', 0.995146186471467)]\n",
            "Customer C0004: [('C0173', 0.9992741842297721), ('C0012', 0.9965426263119812), ('C0124', 0.9963518227026218)]\n",
            "Customer C0005: [('C0112', 0.9998592708958555), ('C0186', 0.9980459599013688), ('C0120', 0.9957493033121506)]\n",
            "Customer C0006: [('C0171', 0.9957133679439155), ('C0115', 0.9949286282199495), ('C0074', 0.9946286419553937)]\n",
            "Customer C0007: [('C0085', 0.9999935078160307), ('C0120', 0.9997639568358302), ('C0050', 0.9959923254926464)]\n",
            "Customer C0008: [('C0109', 0.9967738566864514), ('C0098', 0.9919961120623849), ('C0093', 0.9911523692955455)]\n",
            "Customer C0009: [('C0077', 0.9998716816894867), ('C0083', 0.997604642575368), ('C0010', 0.9893498885438232)]\n",
            "Customer C0010: [('C0029', 0.9999120577582894), ('C0002', 0.9996066053826445), ('C0111', 0.9956863112834976)]\n",
            "Customer C0011: [('C0016', 0.9998312266136868), ('C0064', 0.9992431130774673), ('C0137', 0.9986136076934836)]\n",
            "Customer C0012: [('C0173', 0.9975373023251897), ('C0136', 0.99663805644511), ('C0004', 0.9965426263119812)]\n",
            "Customer C0013: [('C0143', 0.9999931451410498), ('C0046', 0.9994844456423883), ('C0099', 0.9975706345006123)]\n",
            "Customer C0014: [('C0151', 0.9971852576067167), ('C0128', 0.9931284921373538), ('C0097', 0.9895489070767114)]\n",
            "Customer C0015: [('C0095', 0.999038805354095), ('C0144', 0.9987125547196755), ('C0123', 0.9966069636571007)]\n",
            "Customer C0016: [('C0011', 0.9998312266136868), ('C0064', 0.999789123294847), ('C0037', 0.9989323486632851)]\n",
            "Customer C0017: [('C0021', 0.9982755837009091), ('C0101', 0.9975607659440584), ('C0075', 0.9969645232935299)]\n",
            "Customer C0018: [('C0163', 0.9963422345176094), ('C0053', 0.9959463312335296), ('C0023', 0.9953623074571473)]\n",
            "Customer C0019: [('C0189', 0.9890664985813437), ('C0161', 0.9885139878758814), ('C0038', 0.988066911528796)]\n",
            "Customer C0020: [('C0140', 0.9939441995907041), ('C0130', 0.9801236570954784), ('C0085', 0.9773857966698924)]\n",
            "Lookalike results saved to Lookalike.csv\n"
          ]
        },
        {
          "output_type": "stream",
          "name": "stderr",
          "text": [
            "<ipython-input-2-d4b1acfa1860>:28: FutureWarning: Setting an item of incompatible dtype is deprecated and will raise in a future error of pandas. Value '[0.4 0.3 0.3 0.7 0.2 0.3 0.2 0.9 0.2 0.3 0.4 0.6 0.6 0.  0.1 0.4 0.7 0.4\n",
            " 0.5 0.  0.7 0.5 0.5 0.6 0.3 0.3 0.3 0.7 0.3 0.4 0.3 0.2 0.  0.5 0.3 0.2\n",
            " 0.4 0.4 0.5 0.2 0.6 0.2 0.2 0.2 0.6 0.6 0.6 0.4 0.7 0.2 0.6 0.3 0.5 0.7\n",
            " 0.4 0.4 0.5 0.  0.7 0.  0.2 0.2 0.1 0.4 0.9 0.2 0.5 0.7 0.4 0.3 0.2 0.4\n",
            " 0.2 0.2 0.8 0.4 0.2 0.  0.3 0.  0.5 0.6 0.2 0.8 0.2 0.4 0.6 0.4 0.1 0.6\n",
            " 0.5 0.3 0.8 0.3 0.1 0.4 0.  0.7 0.7 0.5 0.7 0.7 0.4 0.7 0.5 0.4 0.4 0.6\n",
            " 1.  0.  0.4 0.2 0.7 0.4 0.2 0.5 0.3 0.5 0.4 0.2 0.3 0.6 0.1 0.6 0.3 0.5\n",
            " 0.5 0.1 0.2 0.  0.2 0.2 0.3 0.4 0.3 0.5 0.4 0.4 0.7 0.1 0.9 0.3 0.6 0.1\n",
            " 0.7 0.3 0.8 0.4 0.4 0.  0.  0.4 0.5 0.5 0.6 1.  0.4 0.3 0.2 0.4 0.7 0.7\n",
            " 0.5 0.4 0.8 0.3 0.2 0.3 0.5 0.4 0.4 0.5 0.7 0.4 0.9 0.2 0.3 0.3 0.5 0.5\n",
            " 0.4 0.4 0.6 0.2 0.2 0.4 0.7 0.4 0.4 0.4 0.3 0.3 0.6 0.5 0.3 0.2 0.1 0.3\n",
            " 0.4]' has dtype incompatible with int64, please explicitly cast to a compatible dtype first.\n",
            "  customer_features_encoded.iloc[:, 1:] = scaler.fit_transform(customer_features_encoded.iloc[:, 1:])\n",
            "<ipython-input-2-d4b1acfa1860>:28: FutureWarning: Setting an item of incompatible dtype is deprecated and will raise in a future error of pandas. Value '[0. 0. 0. 0. 0. 1. 0. 0. 0. 0. 1. 0. 0. 0. 0. 1. 1. 0. 1. 0. 1. 0. 0. 0.\n",
            " 1. 0. 0. 1. 0. 0. 0. 0. 0. 0. 1. 0. 1. 1. 0. 0. 1. 0. 1. 0. 0. 0. 0. 0.\n",
            " 0. 0. 0. 1. 0. 0. 0. 0. 1. 0. 0. 0. 1. 0. 1. 1. 1. 0. 0. 0. 0. 1. 0. 0.\n",
            " 1. 1. 1. 0. 0. 1. 0. 0. 0. 1. 0. 0. 0. 0. 0. 0. 0. 0. 0. 0. 0. 0. 0. 0.\n",
            " 0. 0. 0. 0. 1. 0. 0. 0. 0. 0. 0. 1. 0. 0. 0. 0. 0. 0. 1. 0. 0. 1. 0. 0.\n",
            " 1. 0. 0. 0. 0. 1. 0. 0. 0. 0. 1. 0. 0. 0. 0. 0. 1. 0. 1. 0. 0. 0. 0. 0.\n",
            " 0. 1. 1. 0. 0. 0. 0. 0. 1. 1. 1. 0. 0. 0. 0. 1. 1. 0. 0. 0. 1. 0. 1. 0.\n",
            " 1. 0. 1. 0. 0. 1. 0. 0. 1. 0. 1. 0. 0. 0. 0. 1. 0. 1. 1. 1. 0. 1. 0. 1.\n",
            " 0. 0. 0. 0. 0. 0. 0.]' has dtype incompatible with bool, please explicitly cast to a compatible dtype first.\n",
            "  customer_features_encoded.iloc[:, 1:] = scaler.fit_transform(customer_features_encoded.iloc[:, 1:])\n",
            "<ipython-input-2-d4b1acfa1860>:28: FutureWarning: Setting an item of incompatible dtype is deprecated and will raise in a future error of pandas. Value '[0. 1. 0. 0. 0. 0. 0. 1. 1. 1. 0. 0. 1. 0. 0. 0. 0. 0. 0. 0. 0. 1. 0. 1.\n",
            " 0. 0. 1. 0. 1. 1. 0. 0. 1. 1. 0. 1. 0. 0. 0. 1. 0. 1. 0. 1. 0. 1. 0. 0.\n",
            " 0. 0. 0. 0. 0. 1. 0. 1. 0. 1. 0. 0. 0. 1. 0. 0. 0. 0. 0. 0. 0. 0. 0. 0.\n",
            " 0. 0. 0. 0. 1. 0. 0. 0. 1. 0. 1. 0. 0. 0. 0. 0. 0. 0. 0. 1. 1. 0. 0. 0.\n",
            " 0. 1. 1. 0. 0. 0. 0. 0. 0. 1. 1. 0. 1. 0. 1. 0. 0. 0. 0. 0. 1. 0. 0. 0.\n",
            " 0. 0. 0. 0. 0. 0. 0. 0. 1. 0. 0. 1. 0. 1. 1. 0. 0. 0. 0. 0. 1. 1. 1. 0.\n",
            " 1. 0. 0. 0. 1. 1. 0. 0. 0. 0. 0. 1. 0. 1. 1. 0. 0. 0. 0. 0. 0. 0. 0. 0.\n",
            " 0. 0. 0. 0. 0. 0. 1. 1. 0. 0. 0. 0. 0. 0. 0. 0. 0. 0. 0. 0. 0. 0. 0. 0.\n",
            " 0. 0. 0. 0. 1. 0. 1.]' has dtype incompatible with bool, please explicitly cast to a compatible dtype first.\n",
            "  customer_features_encoded.iloc[:, 1:] = scaler.fit_transform(customer_features_encoded.iloc[:, 1:])\n",
            "<ipython-input-2-d4b1acfa1860>:28: FutureWarning: Setting an item of incompatible dtype is deprecated and will raise in a future error of pandas. Value '[1. 0. 1. 0. 1. 0. 1. 0. 0. 0. 0. 0. 0. 0. 0. 0. 0. 1. 0. 1. 0. 0. 1. 0.\n",
            " 0. 1. 0. 0. 0. 0. 0. 1. 0. 0. 0. 0. 0. 0. 0. 0. 0. 0. 0. 0. 1. 0. 1. 0.\n",
            " 1. 1. 1. 0. 1. 0. 0. 0. 0. 0. 0. 0. 0. 0. 0. 0. 0. 1. 1. 1. 1. 0. 0. 1.\n",
            " 0. 0. 0. 0. 0. 0. 0. 0. 0. 0. 0. 1. 1. 0. 1. 1. 0. 1. 1. 0. 0. 1. 0. 1.\n",
            " 0. 0. 0. 0. 0. 1. 0. 0. 1. 0. 0. 0. 0. 0. 0. 1. 1. 1. 0. 0. 0. 0. 1. 1.\n",
            " 0. 1. 0. 0. 1. 0. 1. 0. 0. 1. 0. 0. 0. 0. 0. 0. 0. 0. 0. 1. 0. 0. 0. 0.\n",
            " 0. 0. 0. 0. 0. 0. 0. 0. 0. 0. 0. 0. 1. 0. 0. 0. 0. 1. 1. 0. 0. 0. 0. 1.\n",
            " 0. 0. 0. 0. 0. 0. 0. 0. 0. 0. 0. 1. 0. 1. 1. 0. 1. 0. 0. 0. 1. 0. 1. 0.\n",
            " 1. 0. 0. 0. 0. 0. 0.]' has dtype incompatible with bool, please explicitly cast to a compatible dtype first.\n",
            "  customer_features_encoded.iloc[:, 1:] = scaler.fit_transform(customer_features_encoded.iloc[:, 1:])\n",
            "<ipython-input-2-d4b1acfa1860>:28: FutureWarning: Setting an item of incompatible dtype is deprecated and will raise in a future error of pandas. Value '[0. 0. 0. 1. 0. 0. 0. 0. 0. 0. 0. 1. 0. 1. 1. 0. 0. 0. 0. 0. 0. 0. 0. 0.\n",
            " 0. 0. 0. 0. 0. 0. 1. 0. 0. 0. 0. 0. 0. 0. 1. 0. 0. 0. 0. 0. 0. 0. 0. 1.\n",
            " 0. 0. 0. 0. 0. 0. 1. 0. 0. 0. 1. 1. 0. 0. 0. 0. 0. 0. 0. 0. 0. 0. 1. 0.\n",
            " 0. 0. 0. 1. 0. 0. 1. 1. 0. 0. 0. 0. 0. 1. 0. 0. 1. 0. 0. 0. 0. 0. 1. 0.\n",
            " 1. 0. 0. 1. 0. 0. 1. 1. 0. 0. 0. 0. 0. 1. 0. 0. 0. 0. 0. 1. 0. 0. 0. 0.\n",
            " 0. 0. 1. 1. 0. 0. 0. 1. 0. 0. 0. 0. 1. 0. 0. 1. 0. 1. 0. 0. 0. 0. 0. 1.\n",
            " 0. 0. 0. 1. 0. 0. 1. 1. 0. 0. 0. 0. 0. 0. 0. 0. 0. 0. 0. 1. 0. 1. 0. 0.\n",
            " 0. 1. 0. 1. 1. 0. 0. 0. 0. 1. 0. 0. 1. 0. 0. 0. 0. 0. 0. 0. 0. 0. 0. 0.\n",
            " 0. 1. 1. 1. 0. 1. 0.]' has dtype incompatible with bool, please explicitly cast to a compatible dtype first.\n",
            "  customer_features_encoded.iloc[:, 1:] = scaler.fit_transform(customer_features_encoded.iloc[:, 1:])\n"
          ]
        }
      ]
    },
    {
      "cell_type": "code",
      "execution_count": null,
      "metadata": {
        "id": "LdAccyCAymDj"
      },
      "outputs": [],
      "source": []
    }
  ]
}